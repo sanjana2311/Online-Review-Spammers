{
 "cells": [
  {
   "cell_type": "code",
   "execution_count": 5,
   "metadata": {},
   "outputs": [
    {
     "data": {
      "application/vnd.jupyter.widget-view+json": {
       "model_id": "5936266e505b415eb4cd2e2bfd478f19",
       "version_major": 2,
       "version_minor": 0
      },
      "text/plain": [
       "VBox()"
      ]
     },
     "metadata": {},
     "output_type": "display_data"
    },
    {
     "data": {
      "application/vnd.jupyter.widget-view+json": {
       "model_id": "",
       "version_major": 2,
       "version_minor": 0
      },
      "text/plain": [
       "FloatProgress(value=0.0, bar_style='info', description='Progress:', layout=Layout(height='25px', width='50%'),…"
      ]
     },
     "metadata": {},
     "output_type": "display_data"
    }
   ],
   "source": [
    "import numpy as npy\n",
    "from builtins import range, input"
   ]
  },
  {
   "cell_type": "code",
   "execution_count": 6,
   "metadata": {},
   "outputs": [
    {
     "data": {
      "application/vnd.jupyter.widget-view+json": {
       "model_id": "2a05ed4980d945a882ee74da018b1dfc",
       "version_major": 2,
       "version_minor": 0
      },
      "text/plain": [
       "VBox()"
      ]
     },
     "metadata": {},
     "output_type": "display_data"
    },
    {
     "data": {
      "application/vnd.jupyter.widget-view+json": {
       "model_id": "",
       "version_major": 2,
       "version_minor": 0
      },
      "text/plain": [
       "FloatProgress(value=0.0, bar_style='info', description='Progress:', layout=Layout(height='25px', width='50%'),…"
      ]
     },
     "metadata": {},
     "output_type": "display_data"
    }
   ],
   "source": [
    "def gaussian_mixtur_model(data, kth_cluster, maxIter = 20, smthing = 0.02):\n",
    "    row, col = data.shape\n",
    "    M_1 = npy.zeros((kth_cluster, col))\n",
    "    R_1 = npy.zeros((row, kth_cluster))\n",
    "    C_1 = npy.zeros((kth_cluster, col, col))\n",
    "    pi_1 = npy.ones(kth_cluster) / kth_cluster  # uniform\n",
    "\n",
    "    for k in range(kth_cluster):\n",
    "        M_1[k] = data[npy.random.choice(row)]\n",
    "        C_1[k] = npy.eye(col)\n",
    "\n",
    "    list = []\n",
    "    high_lighted_pdf = npy.zeros((row, kth_cluster))\n",
    "    for i in range(maxIter):\n",
    "        for j in range(kth_cluster):\n",
    "            for n in range(row):\n",
    "                high_lighted_pdf[n,k] = pi_1[k]*multivariate_normal.pdf(data[n], M_1[j], C_1[j])\n",
    "\n",
    "        for k in range(kth_cluster):\n",
    "            for n in range(row):\n",
    "                R_1[n,k] = high_lighted_pdf[n,k] / high_lighted_pdf[n,:].sum()\n",
    "\n",
    "        for k in range(kth_cluster):\n",
    "            high_lighted_pdf[:, k] = pi_1[k] * multivariate_normal.pdf(data, M_1[k], C_1[k])\n",
    "        R_1 = high_lighted_pdf / high_lighted_pdf.sum()\n",
    "\n",
    "        for k in range(kth_cluster):\n",
    "            rowk = R_1[:,k].sum()\n",
    "            pi_1[k] = rowk / row\n",
    "            M_1[k] = R_1[:,k].dot(data) / rowk\n",
    "\n",
    "            delta = data - M_1[k]\n",
    "            theta_distance = npy.expand_dims(R_1[:,k], -1) * delta\n",
    "            C_1[k] = theta_distance.T.dot(delta) / rowk + npy.eye(col)*smthing\n",
    "\n",
    "        ll = npy.log(high_lighted_pdf.sum()).sum()\n",
    "        list.append(ll)\n",
    "        if i > 0:\n",
    "            if npy.abs(list[i] - list[i - 1]) < 0.1:\n",
    "                break\n",
    "\n",
    "    clusters = npy.random.random((kth_cluster, 3))\n",
    "    colors = R_1.dot(clusters)\n",
    "\n",
    "    return R_1"
   ]
  },
  {
   "cell_type": "code",
   "execution_count": null,
   "metadata": {},
   "outputs": [],
   "source": []
  }
 ],
 "metadata": {
  "kernelspec": {
   "display_name": "PySpark",
   "language": "",
   "name": "pysparkkernel"
  },
  "language_info": {
   "codemirror_mode": {
    "name": "python",
    "version": 2
   },
   "mimetype": "text/x-python",
   "name": "pyspark",
   "pygments_lexer": "python2"
  }
 },
 "nbformat": 4,
 "nbformat_minor": 4
}
