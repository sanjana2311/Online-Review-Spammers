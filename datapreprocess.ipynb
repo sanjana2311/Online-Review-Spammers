{
 "cells": [
  {
   "cell_type": "code",
   "execution_count": 1,
   "metadata": {},
   "outputs": [
    {
     "data": {
      "application/vnd.jupyter.widget-view+json": {
       "model_id": "7617fcc793a9472d937b87efbafd1c03",
       "version_major": 2,
       "version_minor": 0
      },
      "text/plain": [
       "VBox()"
      ]
     },
     "metadata": {},
     "output_type": "display_data"
    },
    {
     "name": "stdout",
     "output_type": "stream",
     "text": [
      "Starting Spark application\n"
     ]
    },
    {
     "data": {
      "text/html": [
       "<table>\n",
       "<tr><th>ID</th><th>YARN Application ID</th><th>Kind</th><th>State</th><th>Spark UI</th><th>Driver log</th><th>Current session?</th></tr><tr><td>0</td><td>application_1588283181625_0001</td><td>pyspark</td><td>idle</td><td><a target=\"_blank\" href=\"http://ip-172-31-44-75.ec2.internal:20888/proxy/application_1588283181625_0001/\">Link</a></td><td><a target=\"_blank\" href=\"http://ip-172-31-44-75.ec2.internal:8042/node/containerlogs/container_1588283181625_0001_01_000001/livy\">Link</a></td><td>✔</td></tr></table>"
      ],
      "text/plain": [
       "<IPython.core.display.HTML object>"
      ]
     },
     "metadata": {},
     "output_type": "display_data"
    },
    {
     "data": {
      "application/vnd.jupyter.widget-view+json": {
       "model_id": "",
       "version_major": 2,
       "version_minor": 0
      },
      "text/plain": [
       "FloatProgress(value=0.0, bar_style='info', description='Progress:', layout=Layout(height='25px', width='50%'),…"
      ]
     },
     "metadata": {},
     "output_type": "display_data"
    },
    {
     "name": "stdout",
     "output_type": "stream",
     "text": [
      "SparkSession available as 'spark'.\n"
     ]
    },
    {
     "data": {
      "application/vnd.jupyter.widget-view+json": {
       "model_id": "",
       "version_major": 2,
       "version_minor": 0
      },
      "text/plain": [
       "FloatProgress(value=0.0, bar_style='info', description='Progress:', layout=Layout(height='25px', width='50%'),…"
      ]
     },
     "metadata": {},
     "output_type": "display_data"
    }
   ],
   "source": [
    "import pyspark\n",
    "from pyspark.sql import SparkSession\n",
    "spark = SparkSession.builder.getOrCreate()"
   ]
  },
  {
   "cell_type": "code",
   "execution_count": 2,
   "metadata": {},
   "outputs": [
    {
     "data": {
      "application/vnd.jupyter.widget-view+json": {
       "model_id": "38da48118f94421d9e76f9a923bd5e11",
       "version_major": 2,
       "version_minor": 0
      },
      "text/plain": [
       "VBox()"
      ]
     },
     "metadata": {},
     "output_type": "display_data"
    },
    {
     "data": {
      "application/vnd.jupyter.widget-view+json": {
       "model_id": "",
       "version_major": 2,
       "version_minor": 0
      },
      "text/plain": [
       "FloatProgress(value=0.0, bar_style='info', description='Progress:', layout=Layout(height='25px', width='50%'),…"
      ]
     },
     "metadata": {},
     "output_type": "display_data"
    }
   ],
   "source": [
    "#input path to business json file\n",
    "input_path_business = 's3://jsonfileyelp/yelp_academic_dataset_business.json'"
   ]
  },
  {
   "cell_type": "code",
   "execution_count": 3,
   "metadata": {},
   "outputs": [
    {
     "data": {
      "application/vnd.jupyter.widget-view+json": {
       "model_id": "7891e944175e49149c91ebf318938cc5",
       "version_major": 2,
       "version_minor": 0
      },
      "text/plain": [
       "VBox()"
      ]
     },
     "metadata": {},
     "output_type": "display_data"
    },
    {
     "data": {
      "application/vnd.jupyter.widget-view+json": {
       "model_id": "",
       "version_major": 2,
       "version_minor": 0
      },
      "text/plain": [
       "FloatProgress(value=0.0, bar_style='info', description='Progress:', layout=Layout(height='25px', width='50%'),…"
      ]
     },
     "metadata": {},
     "output_type": "display_data"
    }
   ],
   "source": [
    "#reading business json file using spark\n",
    "business_data_df = spark.read.json(input_path_business)"
   ]
  },
  {
   "cell_type": "code",
   "execution_count": 4,
   "metadata": {},
   "outputs": [
    {
     "data": {
      "application/vnd.jupyter.widget-view+json": {
       "model_id": "f31dd072faac4fcdbfd7b5a401aba895",
       "version_major": 2,
       "version_minor": 0
      },
      "text/plain": [
       "VBox()"
      ]
     },
     "metadata": {},
     "output_type": "display_data"
    },
    {
     "data": {
      "application/vnd.jupyter.widget-view+json": {
       "model_id": "",
       "version_major": 2,
       "version_minor": 0
      },
      "text/plain": [
       "FloatProgress(value=0.0, bar_style='info', description='Progress:', layout=Layout(height='25px', width='50%'),…"
      ]
     },
     "metadata": {},
     "output_type": "display_data"
    },
    {
     "name": "stdout",
     "output_type": "stream",
     "text": [
      "+--------------------+--------------------+--------------------+--------------------+---------------+--------------------+-------+-------------+---------------+--------------------+-----------+------------+-----+-----+\n",
      "|             address|          attributes|         business_id|          categories|           city|               hours|is_open|     latitude|      longitude|                name|postal_code|review_count|stars|state|\n",
      "+--------------------+--------------------+--------------------+--------------------+---------------+--------------------+-------+-------------+---------------+--------------------+-----------+------------+-----+-----+\n",
      "|     10913 Bailey Rd|[,,,,,,, True,, T...|f9NumwFMBDn751xgF...|Active Life, Gun/...|      Cornelius|[11:0-20:0, 10:0-...|      1|   35.4627242|    -80.8526119|The Range At Lake...|      28031|          36|  3.5|   NC|\n",
      "|8880 E Via Linda,...|[,,,,,,,,,,, True...|Yzvjg0SayhoZgCljU...|Health & Medical,...|     Scottsdale|                null|      1|   33.5694041|   -111.8902637|   Carlos Santo, NMD|      85258|           4|  5.0|   AZ|\n",
      "|3554 Rue Notre-Da...|                null|XNoUzKckATkOD1hP6...|Pets, Pet Service...|       Montreal|                null|      1|    45.479984|      -73.58007|             Felinus|    H4C 1P4|           5|  5.0|   QC|\n",
      "|      1015 Sharp Cir|[,,,,,,, True,, T...|6OAZjbxqM5ol29BuH...|Hardware Stores, ...|North Las Vegas|[7:0-16:0, 7:0-16...|      0|   36.2197281|   -115.1277255|Nevada House of Hose|      89030|           3|  2.5|   NV|\n",
      "|  4827 E Downing Cir|[,,,,,,,,, True,,...|51M2Kk903DFYI6gnB...|Home Services, Pl...|           Mesa|[9:0-16:0, 0:0-0:...|      1|   33.4280652|   -111.7266485|USE MY GUY SERVIC...|      85205|          26|  4.5|   AZ|\n",
      "|1720 W Elliot Rd,...|[,,,,,,,,, True,,...|cKyLV5oWZJ2NudWgq...|Auto Repair, Auto...|        Gilbert|[7:0-18:0, 7:0-18...|      1|   33.3503993|   -111.8271417|Oasis Auto Center...|      85233|          38|  4.5|   AZ|\n",
      "|6870 S Rainbow Bl...|[,,,,,,, True,, T...|oiAlXZPIFm2nBCt0D...|Dry Cleaning & La...|      Las Vegas|[7:0-19:0, 7:0-19...|      1|   36.0639767|    -115.241463|Green World Cleaners|      89118|          81|  3.5|   NV|\n",
      "| 6910 E Southern Ave|[,,,,,,,,, True,,...|ScYkbYNkDgCneBrD9...|Auto Repair, Oil ...|           Mesa|[7:30-17:0, 7:30-...|      1|   33.3938847|   -111.6822257|Junction Tire & A...|      85209|          18|  5.0|   AZ|\n",
      "|      404 E Green St|[,, 'none',,,,, F...|pQeaRpvuhoEqudo3u...|Ethnic Food, Food...|      Champaign|[11:30-14:30, 11:...|      1|   40.1104457|    -88.2330726| The Empanadas House|      61820|           5|  4.5|   IL|\n",
      "|700 Kipling Avenu...|[,,,,,,, False,,,...|EosRKXIGeSWFYWwpk...|Martial Arts, Gym...|        Toronto|[5:30-23:0, 5:30-...|      1|43.6245394916| -79.5291079302|      Xtreme Couture|    M8Z 5G3|          16|  3.0|   ON|\n",
      "|                    |                null|MbZMmwo-eL0Jnm_Yb...|Contractors, Land...|        Calgary|[7:0-17:0, 7:0-17...|      1|   50.9459599|   -114.0372072|Chinook Landscapi...|    T2J 2P2|           3|  5.0|   AB|\n",
      "|1110 Saw Mill Run...|[,,,,,,,,, True,,...|7Dv4_HAxsxvadEsT5...|Automotive, Auto ...|     Pittsburgh|[8:0-17:0, 8:0-17...|      1|   40.4066674|    -80.0044502|Dependable Brakes...|      15226|           5|  5.0|   PA|\n",
      "|   2831 Parmenter St|[,,,,,,, True,, T...|M_guz7Dj7hX0evS67...|Desserts, Food, I...|      Middleton|[11:0-22:0, 0:0-0...|      1|43.1053100891| -89.5101417974|Chocolate Shoppe ...|      53562|           6|  3.5|   WI|\n",
      "|116 N Roosevelt A...|[,,,,,,,,, True,,...|JjJs3o60uQCfctDjs...|Contractors, Home...|       Chandler|[9:0-16:0, 9:0-16...|      1|   33.3038687|   -111.9516598|        Convertabath|      85226|          10|  2.5|   AZ|\n",
      "|     5465 Simmons St|[,,,,,,,,, True, ...|kOICO53wbOiOJcKuC...|Beauty & Spas, Ta...|North Las Vegas|[8:0-21:0, 8:0-21...|      0|    36.263362|   -115.1798386|       Tan Las Vegas|      89031|           5|  3.5|   NV|\n",
      "|     2402 Atchley Dr|[,,,,,,,,, True,,...|rqcOZePlVvJP9Etzl...|Local Services, S...|      Henderson|[8:0-18:0, 8:0-18...|      0|   35.9520457|   -115.0934834|      Desert Storage|      89052|           5|  5.0|   NV|\n",
      "| 3131 Las Vegas Blvd|[,,,,,,, True,, T...|uZuh51lXu7tsrC8RA...|Shopping, Shoe St...|      Las Vegas|                null|      0|36.1257322229|-115.1676084101|      Manolo Blahnik|      89109|          32|  4.5|   NV|\n",
      "|2115 E Cedar St, ...|[,,,,,,,,, True,,...|nIEhsGbw0vJuYl05b...|Event Planning & ...|          Tempe|                null|      1|   33.4115139|   -111.8953784|   Bloom & Blueprint|      85281|           7|  4.5|   AZ|\n",
      "|      2915 Cherry Rd|[,,,,,,,,, True,,...|edQoeeBFUTYGwnUSE...|Auto Customizatio...|      Rock Hill|[8:0-18:0, 8:0-18...|      1|   34.9811205|    -80.9790228|            Car Guyz|      29730|          10|  4.5|   SC|\n",
      "|     5229 S Power Rd|[False,,,,,,, Tru...|Vwo64kNYDjKi98gUU...|Weight Loss Cente...|           Mesa|[5:30-20:0, 5:30-...|      1|   33.3207235|   -111.6858686|Gateway Fit Body ...|      85212|          16|  4.5|   AZ|\n",
      "+--------------------+--------------------+--------------------+--------------------+---------------+--------------------+-------+-------------+---------------+--------------------+-----------+------------+-----+-----+\n",
      "only showing top 20 rows"
     ]
    }
   ],
   "source": [
    "#converting into business dataframe\n",
    "business_data_df.createOrReplaceTempView(\"business\")\n",
    "business_df = spark.sql(\"SELECT * FROM business\")\n",
    "business_df.show()"
   ]
  },
  {
   "cell_type": "code",
   "execution_count": 5,
   "metadata": {},
   "outputs": [
    {
     "data": {
      "application/vnd.jupyter.widget-view+json": {
       "model_id": "be5cf91719fd4e649f3d09dafe6ecbca",
       "version_major": 2,
       "version_minor": 0
      },
      "text/plain": [
       "VBox()"
      ]
     },
     "metadata": {},
     "output_type": "display_data"
    },
    {
     "data": {
      "application/vnd.jupyter.widget-view+json": {
       "model_id": "",
       "version_major": 2,
       "version_minor": 0
      },
      "text/plain": [
       "FloatProgress(value=0.0, bar_style='info', description='Progress:', layout=Layout(height='25px', width='50%'),…"
      ]
     },
     "metadata": {},
     "output_type": "display_data"
    }
   ],
   "source": [
    "#dropping all the unwanted columns\n",
    "business_df = business_df.drop('hours','latitude','longitude','postal_code')"
   ]
  },
  {
   "cell_type": "code",
   "execution_count": 6,
   "metadata": {},
   "outputs": [
    {
     "data": {
      "application/vnd.jupyter.widget-view+json": {
       "model_id": "32df7bc3066443f882aa5044c30aa038",
       "version_major": 2,
       "version_minor": 0
      },
      "text/plain": [
       "VBox()"
      ]
     },
     "metadata": {},
     "output_type": "display_data"
    },
    {
     "data": {
      "application/vnd.jupyter.widget-view+json": {
       "model_id": "",
       "version_major": 2,
       "version_minor": 0
      },
      "text/plain": [
       "FloatProgress(value=0.0, bar_style='info', description='Progress:', layout=Layout(height='25px', width='50%'),…"
      ]
     },
     "metadata": {},
     "output_type": "display_data"
    },
    {
     "name": "stdout",
     "output_type": "stream",
     "text": [
      "+--------------------+--------------------+--------------------+--------------------+------------+-------+--------------------+------------+-----+-----+\n",
      "|             address|          attributes|         business_id|          categories|        city|is_open|                name|review_count|stars|state|\n",
      "+--------------------+--------------------+--------------------+--------------------+------------+-------+--------------------+------------+-----+-----+\n",
      "|     10913 Bailey Rd|[,,,,,,, True,, T...|f9NumwFMBDn751xgF...|Active Life, Gun/...|   Cornelius|      1|The Range At Lake...|          36|  3.5|   NC|\n",
      "|8880 E Via Linda,...|[,,,,,,,,,,, True...|Yzvjg0SayhoZgCljU...|Health & Medical,...|  Scottsdale|      1|   Carlos Santo, NMD|           4|  5.0|   AZ|\n",
      "|3554 Rue Notre-Da...|                null|XNoUzKckATkOD1hP6...|Pets, Pet Service...|    Montreal|      1|             Felinus|           5|  5.0|   QC|\n",
      "|  4827 E Downing Cir|[,,,,,,,,, True,,...|51M2Kk903DFYI6gnB...|Home Services, Pl...|        Mesa|      1|USE MY GUY SERVIC...|          26|  4.5|   AZ|\n",
      "|1720 W Elliot Rd,...|[,,,,,,,,, True,,...|cKyLV5oWZJ2NudWgq...|Auto Repair, Auto...|     Gilbert|      1|Oasis Auto Center...|          38|  4.5|   AZ|\n",
      "|6870 S Rainbow Bl...|[,,,,,,, True,, T...|oiAlXZPIFm2nBCt0D...|Dry Cleaning & La...|   Las Vegas|      1|Green World Cleaners|          81|  3.5|   NV|\n",
      "| 6910 E Southern Ave|[,,,,,,,,, True,,...|ScYkbYNkDgCneBrD9...|Auto Repair, Oil ...|        Mesa|      1|Junction Tire & A...|          18|  5.0|   AZ|\n",
      "|      404 E Green St|[,, 'none',,,,, F...|pQeaRpvuhoEqudo3u...|Ethnic Food, Food...|   Champaign|      1| The Empanadas House|           5|  4.5|   IL|\n",
      "|700 Kipling Avenu...|[,,,,,,, False,,,...|EosRKXIGeSWFYWwpk...|Martial Arts, Gym...|     Toronto|      1|      Xtreme Couture|          16|  3.0|   ON|\n",
      "|                    |                null|MbZMmwo-eL0Jnm_Yb...|Contractors, Land...|     Calgary|      1|Chinook Landscapi...|           3|  5.0|   AB|\n",
      "|1110 Saw Mill Run...|[,,,,,,,,, True,,...|7Dv4_HAxsxvadEsT5...|Automotive, Auto ...|  Pittsburgh|      1|Dependable Brakes...|           5|  5.0|   PA|\n",
      "|   2831 Parmenter St|[,,,,,,, True,, T...|M_guz7Dj7hX0evS67...|Desserts, Food, I...|   Middleton|      1|Chocolate Shoppe ...|           6|  3.5|   WI|\n",
      "|116 N Roosevelt A...|[,,,,,,,,, True,,...|JjJs3o60uQCfctDjs...|Contractors, Home...|    Chandler|      1|        Convertabath|          10|  2.5|   AZ|\n",
      "|2115 E Cedar St, ...|[,,,,,,,,, True,,...|nIEhsGbw0vJuYl05b...|Event Planning & ...|       Tempe|      1|   Bloom & Blueprint|           7|  4.5|   AZ|\n",
      "|      2915 Cherry Rd|[,,,,,,,,, True,,...|edQoeeBFUTYGwnUSE...|Auto Customizatio...|   Rock Hill|      1|            Car Guyz|          10|  4.5|   SC|\n",
      "|     5229 S Power Rd|[False,,,,,,, Tru...|Vwo64kNYDjKi98gUU...|Weight Loss Cente...|        Mesa|      1|Gateway Fit Body ...|          16|  4.5|   AZ|\n",
      "|5850 W Glendale A...|[,,,,,,, True,, F...|x3Po6tJGb729u_HJP...|Arts & Entertainm...|    Glendale|      1|   Glendale Glitters|          52|  2.5|   AZ|\n",
      "|        4431 Neck Rd|[,,,,,,,,,,,,,,,,...|idgGrA8gt699JDUPK...|Festivals, Arts &...|Huntersville|      1|North Carolina Br...|           3|  4.0|   NC|\n",
      "|                    |[,,,,,,,,, True,,...|mKTq1T_IAplDpHUcM...|Hotels & Travel, ...|    Gastonia|      1|          Tipsy Ryde|           3|  3.5|   NC|\n",
      "|15480 Bayview Ave...|[,, u'none',,,,, ...|eBEfgOPG7pvFhb2wc...|Restaurants, Chee...|      Aurora|      1|     Philthy Phillys|           4|  4.5|   ON|\n",
      "+--------------------+--------------------+--------------------+--------------------+------------+-------+--------------------+------------+-----+-----+\n",
      "only showing top 20 rows"
     ]
    }
   ],
   "source": [
    "#choosing open only businesses\n",
    "opened_business_data = business_df[business_df['is_open']==1]\n",
    "opened_business_data.show()"
   ]
  },
  {
   "cell_type": "code",
   "execution_count": 14,
   "metadata": {},
   "outputs": [
    {
     "data": {
      "application/vnd.jupyter.widget-view+json": {
       "model_id": "cc4d92b826694aa1abc63d9396430815",
       "version_major": 2,
       "version_minor": 0
      },
      "text/plain": [
       "VBox()"
      ]
     },
     "metadata": {},
     "output_type": "display_data"
    },
    {
     "data": {
      "application/vnd.jupyter.widget-view+json": {
       "model_id": "",
       "version_major": 2,
       "version_minor": 0
      },
      "text/plain": [
       "FloatProgress(value=0.0, bar_style='info', description='Progress:', layout=Layout(height='25px', width='50%'),…"
      ]
     },
     "metadata": {},
     "output_type": "display_data"
    },
    {
     "name": "stdout",
     "output_type": "stream",
     "text": [
      "+--------------------+--------------------+--------------------+--------------------+----------+--------------------+------------+-----+-----+\n",
      "|             address|          attributes|         business_id|          categories|      city|                name|review_count|stars|state|\n",
      "+--------------------+--------------------+--------------------+--------------------+----------+--------------------+------------+-----+-----+\n",
      "|1720 W Elliot Rd,...|[,,,,,,,,, True,,...|cKyLV5oWZJ2NudWgq...|Auto Repair, Auto...|   Gilbert|Oasis Auto Center...|          38|  4.5|   AZ|\n",
      "| 6910 E Southern Ave|[,,,,,,,,, True,,...|ScYkbYNkDgCneBrD9...|Auto Repair, Oil ...|      Mesa|Junction Tire & A...|          18|  5.0|   AZ|\n",
      "|1110 Saw Mill Run...|[,,,,,,,,, True,,...|7Dv4_HAxsxvadEsT5...|Automotive, Auto ...|Pittsburgh|Dependable Brakes...|           5|  5.0|   PA|\n",
      "|      2915 Cherry Rd|[,,,,,,,,, True,,...|edQoeeBFUTYGwnUSE...|Auto Customizatio...| Rock Hill|            Car Guyz|          10|  4.5|   SC|\n",
      "|5201 E Independen...|[,,,,,,,,, True,,...|0pOlmHVeidsh63iAW...|Auto Repair, Car ...| Charlotte|Hendrick Motors o...|          32|  2.5|   NC|\n",
      "|16223 N Cave Cree...|[,,,,,,,,, True,,...|07cgbTbANYhVDfzTM...|Automotive, Auto ...|   Phoenix| Frontier Automotive|          17|  4.5|   AZ|\n",
      "|800 Fort Duquesne...|[,,,,,,,,, True,,...|_4Oe9V-qTpU5iemM9...|Oil Change Statio...|Pittsburgh|Goodyear Auto Ser...|          12|  3.5|   PA|\n",
      "|4100 S 38th St, S...|[,,,,,,,,, True,,...|tF2ovXGBW6EeaPDWO...|Automotive, Auto ...|   Phoenix|         Autohaus Az|          79|  3.5|   AZ|\n",
      "|     4910 W Vegas Dr|                null|ba5PtEQcvLm0IH6oH...|Car Wash, Automotive| Las Vegas| Foster Day Car Wash|           3|  2.5|   NV|\n",
      "| 3676 S Val Vista Dr|[,,,,,,,,, True,,...|OUBuRQi7Doshp4bUz...|Automotive, Car Wash|   Gilbert|Rinse n Ride Car ...|          63|  3.5|   AZ|\n",
      "|    4147 W Venus Way|[,,,,,,,,, True,,...|tWAlwjRV195TX2X0I...|Automotive, Auto ...|  Chandler|      The Thing Shop|           8|  4.0|   AZ|\n",
      "|   1650 Crestdale Ln|[,,,,,,,,, True,,...|-1MVd6ljY2JT6gCKn...|Self Storage, Hom...| Las Vegas|U-Haul Neighborho...|          12|  3.0|   NV|\n",
      "|15605 W Roosevelt...|                null|FNtrxYca1pRcPJ80Z...|Financial Service...|  Goodyear|Allstate Insuranc...|           6|  5.0|   AZ|\n",
      "|    6275 Harrison Dr|                null|rBlOV-mLmOrIaa-C8...|Auto Repair, Auto...| Las Vegas|                 RAV|           5|  4.0|   NV|\n",
      "|     3301 Library Rd|[,,,,,,,,, True,,...|LKF5QS7BQ8oaXnTUa...|Automotive, Auto ...|Pittsburgh|Budget Transmissions|           3|  2.5|   PA|\n",
      "|    254 62 Avenue SE|[,,,,,,,,, True,,...|Lq4CFkCxZcLsipS96...|Auto Repair, Auto...|   Calgary|          Dent Squad|           3|  5.0|   AB|\n",
      "|     15494 W Bell Rd|[,,,,,,,,, True,,...|3Oya_jqC9Pe8Iz3zC...|Automotive, Auto ...|  Surprise|Meineke Car Care ...|          47|  2.5|   AZ|\n",
      "|2705 S Alma Schoo...|[,,,,,,,,, True,,...|36sblIWe08niJxB2q...|Automotive, Auto ...|  Chandler|     2U Glass & Tint|          14|  4.5|   AZ|\n",
      "|      718 E 200th St|[,,,,,,,,, True,,...|gd94d5l-24OeVdwfC...|Auto Repair, Tran...| Cleveland|   Master Mechanical|           3|  4.5|   OH|\n",
      "|1010 Carolina Pla...|[,,,,,,, False,, ...|yzz0r5eNYZi7mSY4S...|Food, Convenience...| Fort Mill|                  BP|           5|  3.0|   SC|\n",
      "+--------------------+--------------------+--------------------+--------------------+----------+--------------------+------------+-----+-----+\n",
      "only showing top 20 rows"
     ]
    }
   ],
   "source": [
    "#choosing business that belonged to automotive\n",
    "automotive_df = opened_business_data.filter(\"categories like '%Automotive%'\")\n",
    "automotive_df = automotive_df.drop('is_open')\n",
    "automotive_df.show()"
   ]
  },
  {
   "cell_type": "code",
   "execution_count": 15,
   "metadata": {},
   "outputs": [
    {
     "data": {
      "application/vnd.jupyter.widget-view+json": {
       "model_id": "86f5c5e8138c400d947e3331d0368767",
       "version_major": 2,
       "version_minor": 0
      },
      "text/plain": [
       "VBox()"
      ]
     },
     "metadata": {},
     "output_type": "display_data"
    },
    {
     "data": {
      "application/vnd.jupyter.widget-view+json": {
       "model_id": "",
       "version_major": 2,
       "version_minor": 0
      },
      "text/plain": [
       "FloatProgress(value=0.0, bar_style='info', description='Progress:', layout=Layout(height='25px', width='50%'),…"
      ]
     },
     "metadata": {},
     "output_type": "display_data"
    },
    {
     "name": "stdout",
     "output_type": "stream",
     "text": [
      "(13149, 9)"
     ]
    }
   ],
   "source": [
    "print((automotive_df.count(), len(automotive_df.columns)))"
   ]
  },
  {
   "cell_type": "code",
   "execution_count": 9,
   "metadata": {},
   "outputs": [
    {
     "data": {
      "application/vnd.jupyter.widget-view+json": {
       "model_id": "b15c71e09e804d0a84dd8c515492f9f9",
       "version_major": 2,
       "version_minor": 0
      },
      "text/plain": [
       "VBox()"
      ]
     },
     "metadata": {},
     "output_type": "display_data"
    },
    {
     "data": {
      "application/vnd.jupyter.widget-view+json": {
       "model_id": "",
       "version_major": 2,
       "version_minor": 0
      },
      "text/plain": [
       "FloatProgress(value=0.0, bar_style='info', description='Progress:', layout=Layout(height='25px', width='50%'),…"
      ]
     },
     "metadata": {},
     "output_type": "display_data"
    }
   ],
   "source": [
    "#reading the reviews json file\n",
    "reviews_data_df = spark.read.json('s3://jsonfileyelp/yelp_academic_dataset_review.json')"
   ]
  },
  {
   "cell_type": "code",
   "execution_count": 17,
   "metadata": {},
   "outputs": [
    {
     "data": {
      "application/vnd.jupyter.widget-view+json": {
       "model_id": "7697b5d976ce4e0ca85be2485f04fd3d",
       "version_major": 2,
       "version_minor": 0
      },
      "text/plain": [
       "VBox()"
      ]
     },
     "metadata": {},
     "output_type": "display_data"
    },
    {
     "data": {
      "application/vnd.jupyter.widget-view+json": {
       "model_id": "",
       "version_major": 2,
       "version_minor": 0
      },
      "text/plain": [
       "FloatProgress(value=0.0, bar_style='info', description='Progress:', layout=Layout(height='25px', width='50%'),…"
      ]
     },
     "metadata": {},
     "output_type": "display_data"
    }
   ],
   "source": [
    "reviews_data_df.createOrReplaceTempView(\"reviews\")\n",
    "\n",
    "reviews_df = spark.sql(\"SELECT * FROM reviews\")"
   ]
  },
  {
   "cell_type": "code",
   "execution_count": 18,
   "metadata": {},
   "outputs": [
    {
     "data": {
      "application/vnd.jupyter.widget-view+json": {
       "model_id": "e9eb878d6f2145c9a949f453036e5ad7",
       "version_major": 2,
       "version_minor": 0
      },
      "text/plain": [
       "VBox()"
      ]
     },
     "metadata": {},
     "output_type": "display_data"
    },
    {
     "data": {
      "application/vnd.jupyter.widget-view+json": {
       "model_id": "",
       "version_major": 2,
       "version_minor": 0
      },
      "text/plain": [
       "FloatProgress(value=0.0, bar_style='info', description='Progress:', layout=Layout(height='25px', width='50%'),…"
      ]
     },
     "metadata": {},
     "output_type": "display_data"
    },
    {
     "name": "stdout",
     "output_type": "stream",
     "text": [
      "+--------------------+----+-------------------+-----+--------------------+------------+--------------------+------+--------------------+\n",
      "|         business_id|cool|               date|funny|           review_id|review_stars|                text|useful|             user_id|\n",
      "+--------------------+----+-------------------+-----+--------------------+------------+--------------------+------+--------------------+\n",
      "|-MhfebM0QIsKt87iD...|   0|2015-04-15 05:21:16|    0|xQY8N_XvtGbearJ5X...|         2.0|As someone who ha...|     5|OwjRMXRC0KyPrIlcj...|\n",
      "|lbrU8StCq3yDfr-QM...|   0|2013-12-07 03:16:52|    1|UmFMZ8PyXZTY2Qcwz...|         1.0|I am actually hor...|     1|nIJD_7ZXHq-FX8byP...|\n",
      "|HQl28KMwrEKHqhFrr...|   0|2015-12-05 03:18:11|    0|LG2ZaYiOgpr2DK_90...|         5.0|I love Deagan's. ...|     1|V34qejxNsCbcgD8C0...|\n",
      "|5JxlZaqCnk1MnbgRi...|   0|2011-05-27 05:30:52|    0|i6g_oA9Yf9Y31qt0w...|         1.0|Dismal, lukewarm,...|     0|ofKDkJKXSKZXu5xJN...|\n",
      "|IS4cv902ykd8wj1TR...|   0|2017-01-14 21:56:57|    0|6TdNDKywdbjoTkize...|         4.0|Oh happy day, fin...|     0|UgMW8bLE0QMJDCkQ1...|\n",
      "|nlxHRv1zXGT0c0K51...|   0|2013-05-07 07:25:25|    0|L2O_INwlrRuoX05KS...|         5.0|This is definitel...|     2|5vD2kmE25YBrbayKh...|\n",
      "|Pthe4qk5xh4n-ef-9...|   0|2015-11-05 23:11:05|    0|ZayJ1zWyWgY9S_TRL...|         5.0|Really good place...|     1|aq_ZxGHiri48TUXJl...|\n",
      "|FNCJpSn0tL9iqoY3J...|   0|2017-07-18 18:31:54|    0|lpFIJYpsvDxyph-kP...|         5.0|Awesome office an...|     0|dsd-KNYKMpx6ma_sR...|\n",
      "|e_BiI4ej1CW1F0EyV...|   0|2015-02-16 06:48:47|    0|JA-xnyHytKiOIHl_z...|         5.0|Most delicious au...|     0|P6apihD4ASf1vpPxH...|\n",
      "|Ws8V970-mQt2X9CwC...|   1|2009-10-13 04:16:41|    0|z4BCgTkfNtCu4XY5L...|         4.0|I have been here ...|     3|jOERvhmK6_lo_XGUB...|\n",
      "+--------------------+----+-------------------+-----+--------------------+------------+--------------------+------+--------------------+\n",
      "only showing top 10 rows"
     ]
    }
   ],
   "source": [
    "#converting into reviews dataframe\n",
    "data_reviews = reviews_df.withColumnRenamed('stars','review_stars')\n",
    "\n",
    "data_reviews.show(10)"
   ]
  },
  {
   "cell_type": "code",
   "execution_count": 19,
   "metadata": {},
   "outputs": [
    {
     "data": {
      "application/vnd.jupyter.widget-view+json": {
       "model_id": "5c44b9c0b7ae4e5b8c48b22cf2ca8cf0",
       "version_major": 2,
       "version_minor": 0
      },
      "text/plain": [
       "VBox()"
      ]
     },
     "metadata": {},
     "output_type": "display_data"
    },
    {
     "data": {
      "application/vnd.jupyter.widget-view+json": {
       "model_id": "",
       "version_major": 2,
       "version_minor": 0
      },
      "text/plain": [
       "FloatProgress(value=0.0, bar_style='info', description='Progress:', layout=Layout(height='25px', width='50%'),…"
      ]
     },
     "metadata": {},
     "output_type": "display_data"
    },
    {
     "name": "stdout",
     "output_type": "stream",
     "text": [
      "+--------------------+------------------+--------------------+--------------------+-----------+--------------------+------------+-----+-----+----+-------------------+-----+--------------------+------------+--------------------+------+--------------------+\n",
      "|         business_id|           address|          attributes|          categories|       city|                name|review_count|stars|state|cool|               date|funny|           review_id|review_stars|                text|useful|             user_id|\n",
      "+--------------------+------------------+--------------------+--------------------+-----------+--------------------+------------+-----+-----+----+-------------------+-----+--------------------+------------+--------------------+------+--------------------+\n",
      "|-Gh9a15ijNii-8rnp...|797 Bancroft Drive|                null|Auto Repair, Auto...|Mississauga|Volvo of Mississauga|           3|  3.5|   ON|   0|2018-04-28 22:15:36|    3|1UfmHhKEW0-FmuWdc...|         1.0|Had a horrible ex...|     2|cWYmdasSbsWPCdNZo...|\n",
      "|-Gh9a15ijNii-8rnp...|797 Bancroft Drive|                null|Auto Repair, Auto...|Mississauga|Volvo of Mississauga|           3|  3.5|   ON|   0|2017-06-15 21:25:56|    0|0MypdQ9_BH_-hsmUI...|         4.0|I've been there o...|     0|a05f7O5_8WZxiVKQF...|\n",
      "|-Gh9a15ijNii-8rnp...|797 Bancroft Drive|                null|Auto Repair, Auto...|Mississauga|Volvo of Mississauga|           3|  3.5|   ON|   0|2013-12-16 21:37:43|    2|DZxjGpaFaf7OBS_w8...|         5.0|I purchased a Vol...|     4|9xJnNdFzRP6ZophVy...|\n",
      "|-qL-wX-UuMaHDBA2X...| 9393 East Bell Rd|[,,,,,,,,, True,,...|Automotive, Gas S...| Scottsdale|           The Thumb|         124|  4.0|   AZ|   0|2017-03-04 22:01:24|    0|3frV0EUmUk2vvvXPj...|         5.0|I took my new car...|     0|80MxmIA9EDOh2SR1Y...|\n",
      "|-qL-wX-UuMaHDBA2X...| 9393 East Bell Rd|[,,,,,,,,, True,,...|Automotive, Gas S...| Scottsdale|           The Thumb|         124|  4.0|   AZ|   0|2017-12-18 21:55:49|    0|devTWzYgC5iY6kYjT...|         5.0|I got my car deta...|     0|DdnBg8XvZsyv-aBbg...|\n",
      "|-qL-wX-UuMaHDBA2X...| 9393 East Bell Rd|[,,,,,,,,, True,,...|Automotive, Gas S...| Scottsdale|           The Thumb|         124|  4.0|   AZ|   0|2018-08-25 00:50:39|    0|tk7GVw70fPiuvoVRk...|         5.0|Superb food wash ...|     0|-dPN1ydScvh06CnQ3...|\n",
      "|-qL-wX-UuMaHDBA2X...| 9393 East Bell Rd|[,,,,,,,,, True,,...|Automotive, Gas S...| Scottsdale|           The Thumb|         124|  4.0|   AZ|   0|2016-06-14 00:59:36|    0|IjaH6lgF5FXcZye7Q...|         5.0|Finally a great c...|     0|5v-htbXz29AwrhrDd...|\n",
      "|-qL-wX-UuMaHDBA2X...| 9393 East Bell Rd|[,,,,,,,,, True,,...|Automotive, Gas S...| Scottsdale|           The Thumb|         124|  4.0|   AZ|   2|2013-10-26 16:29:29|    3|a9BTS9-vMyPOl1o1u...|         1.0|Another bad car w...|     2|jvxtRpTiPY4S42COQ...|\n",
      "|-qL-wX-UuMaHDBA2X...| 9393 East Bell Rd|[,,,,,,,,, True,,...|Automotive, Gas S...| Scottsdale|           The Thumb|         124|  4.0|   AZ|   0|2015-04-18 22:58:02|    0|FylcXYGjv-9JCX4hh...|         5.0|They detailed my ...|     0|_I8Rc0taFYgTcC1bn...|\n",
      "|-qL-wX-UuMaHDBA2X...| 9393 East Bell Rd|[,,,,,,,,, True,,...|Automotive, Gas S...| Scottsdale|           The Thumb|         124|  4.0|   AZ|   0|2015-04-18 22:54:15|    0|DWs0s0ZSADmbumh51...|         5.0|Thanks for the aw...|     0|OiG59yBYQPe3KY2Wj...|\n",
      "+--------------------+------------------+--------------------+--------------------+-----------+--------------------+------------+-----+-----+----+-------------------+-----+--------------------+------------+--------------------+------+--------------------+\n",
      "only showing top 10 rows"
     ]
    }
   ],
   "source": [
    "#merging both business and reviews dataframe so as to get reviews of the automotive businesses.\n",
    "joined_data = automotive_df.join(data_reviews, on=['business_id'], how='inner')\n",
    "\n",
    "joined_data.show(10)"
   ]
  },
  {
   "cell_type": "code",
   "execution_count": 20,
   "metadata": {},
   "outputs": [
    {
     "data": {
      "application/vnd.jupyter.widget-view+json": {
       "model_id": "8bdcf568ad9b4a9aaaae10355f22f938",
       "version_major": 2,
       "version_minor": 0
      },
      "text/plain": [
       "VBox()"
      ]
     },
     "metadata": {},
     "output_type": "display_data"
    },
    {
     "data": {
      "application/vnd.jupyter.widget-view+json": {
       "model_id": "",
       "version_major": 2,
       "version_minor": 0
      },
      "text/plain": [
       "FloatProgress(value=0.0, bar_style='info', description='Progress:', layout=Layout(height='25px', width='50%'),…"
      ]
     },
     "metadata": {},
     "output_type": "display_data"
    }
   ],
   "source": [
    "#writing into csv file\n",
    "\n",
    "def toCSV(df,outputPath):\n",
    "    df.coalesce(1).write.csv(outputPath)\n",
    "\n",
    "joined_data = joined_data.drop('attributes','address','state','city')\n",
    "\n",
    "toCSV(joined_data, \"s3://jsonfileyelp/reviews1.csv\")"
   ]
  },
  {
   "cell_type": "code",
   "execution_count": null,
   "metadata": {},
   "outputs": [],
   "source": []
  }
 ],
 "metadata": {
  "kernelspec": {
   "display_name": "Python 3",
   "language": "python",
   "name": "python3"
  },
  "language_info": {
   "codemirror_mode": {
    "name": "ipython",
    "version": 3
   },
   "file_extension": ".py",
   "mimetype": "text/x-python",
   "name": "python",
   "nbconvert_exporter": "python",
   "pygments_lexer": "ipython3",
   "version": "3.7.7"
  }
 },
 "nbformat": 4,
 "nbformat_minor": 4
}
