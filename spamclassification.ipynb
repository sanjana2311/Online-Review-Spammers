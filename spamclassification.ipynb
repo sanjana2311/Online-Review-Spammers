{
 "cells": [
  {
   "cell_type": "code",
   "execution_count": 1,
   "metadata": {},
   "outputs": [
    {
     "data": {
      "application/vnd.jupyter.widget-view+json": {
       "model_id": "06a4a4696c2d4493a171853ea09c1147",
       "version_major": 2,
       "version_minor": 0
      },
      "text/plain": [
       "VBox()"
      ]
     },
     "metadata": {},
     "output_type": "display_data"
    },
    {
     "name": "stdout",
     "output_type": "stream",
     "text": [
      "Starting Spark application\n"
     ]
    },
    {
     "data": {
      "text/html": [
       "<table>\n",
       "<tr><th>ID</th><th>YARN Application ID</th><th>Kind</th><th>State</th><th>Spark UI</th><th>Driver log</th><th>Current session?</th></tr><tr><td>2</td><td>application_1588049897809_0003</td><td>pyspark</td><td>idle</td><td><a target=\"_blank\" href=\"http://ip-172-31-55-63.ec2.internal:20888/proxy/application_1588049897809_0003/\">Link</a></td><td><a target=\"_blank\" href=\"http://ip-172-31-55-63.ec2.internal:8042/node/containerlogs/container_1588049897809_0003_01_000001/livy\">Link</a></td><td>✔</td></tr></table>"
      ],
      "text/plain": [
       "<IPython.core.display.HTML object>"
      ]
     },
     "metadata": {},
     "output_type": "display_data"
    },
    {
     "data": {
      "application/vnd.jupyter.widget-view+json": {
       "model_id": "",
       "version_major": 2,
       "version_minor": 0
      },
      "text/plain": [
       "FloatProgress(value=0.0, bar_style='info', description='Progress:', layout=Layout(height='25px', width='50%'),…"
      ]
     },
     "metadata": {},
     "output_type": "display_data"
    },
    {
     "name": "stdout",
     "output_type": "stream",
     "text": [
      "SparkSession available as 'spark'.\n"
     ]
    },
    {
     "data": {
      "application/vnd.jupyter.widget-view+json": {
       "model_id": "",
       "version_major": 2,
       "version_minor": 0
      },
      "text/plain": [
       "FloatProgress(value=0.0, bar_style='info', description='Progress:', layout=Layout(height='25px', width='50%'),…"
      ]
     },
     "metadata": {},
     "output_type": "display_data"
    }
   ],
   "source": [
    "from pyspark import SparkContext, SparkConf\n",
    "from pyspark.sql import SparkSession"
   ]
  },
  {
   "cell_type": "code",
   "execution_count": 2,
   "metadata": {},
   "outputs": [
    {
     "data": {
      "application/vnd.jupyter.widget-view+json": {
       "model_id": "85493acc3e6d4ca0b321becb48386453",
       "version_major": 2,
       "version_minor": 0
      },
      "text/plain": [
       "VBox()"
      ]
     },
     "metadata": {},
     "output_type": "display_data"
    },
    {
     "data": {
      "application/vnd.jupyter.widget-view+json": {
       "model_id": "",
       "version_major": 2,
       "version_minor": 0
      },
      "text/plain": [
       "FloatProgress(value=0.0, bar_style='info', description='Progress:', layout=Layout(height='25px', width='50%'),…"
      ]
     },
     "metadata": {},
     "output_type": "display_data"
    }
   ],
   "source": [
    "conf = SparkConf().setAppName(\"spamclassification\").setMaster(\"spark://master:7077\")\n",
    "sc = SparkContext.getOrCreate()\n",
    "spark = SparkSession.builder.config( conf = conf ).appName(\"spamclassification\").getOrCreate()"
   ]
  },
  {
   "cell_type": "code",
   "execution_count": 3,
   "metadata": {},
   "outputs": [
    {
     "data": {
      "application/vnd.jupyter.widget-view+json": {
       "model_id": "971a6275034042e19c40b103235880c9",
       "version_major": 2,
       "version_minor": 0
      },
      "text/plain": [
       "VBox()"
      ]
     },
     "metadata": {},
     "output_type": "display_data"
    },
    {
     "data": {
      "application/vnd.jupyter.widget-view+json": {
       "model_id": "",
       "version_major": 2,
       "version_minor": 0
      },
      "text/plain": [
       "FloatProgress(value=0.0, bar_style='info', description='Progress:', layout=Layout(height='25px', width='50%'),…"
      ]
     },
     "metadata": {},
     "output_type": "display_data"
    }
   ],
   "source": [
    "#defining the schema to help read the file\n",
    "from pyspark.sql.types import StructField,StructType,StringType,FloatType,IntegerType,DoubleType,BooleanType\n",
    "\n",
    "MySchema = StructType([\n",
    "    StructField(\"business_id\", StringType(), True),        \n",
    "    StructField(\"name\", StringType(), True),\n",
    "    StructField(\"stars\", StringType(), True),\n",
    "    StructField(\"review_count\", StringType(), True),\n",
    "    StructField(\"review_id\", StringType(), True),\n",
    "    StructField(\"user_id\", StringType(), True),\n",
    "    StructField(\"review_stars\", IntegerType(), True),\n",
    "    StructField(\"useful\", IntegerType(), True),\n",
    "    StructField(\"funny\", IntegerType(), True),\n",
    "    StructField(\"cool\", IntegerType(), True),\n",
    "    StructField(\"text\", StringType(), True),\n",
    "    StructField(\"date\", StringType(), True),\n",
    "])"
   ]
  },
  {
   "cell_type": "code",
   "execution_count": 4,
   "metadata": {},
   "outputs": [
    {
     "data": {
      "application/vnd.jupyter.widget-view+json": {
       "model_id": "72f562c6ccf64804b052f1600d5724b4",
       "version_major": 2,
       "version_minor": 0
      },
      "text/plain": [
       "VBox()"
      ]
     },
     "metadata": {},
     "output_type": "display_data"
    },
    {
     "data": {
      "application/vnd.jupyter.widget-view+json": {
       "model_id": "",
       "version_major": 2,
       "version_minor": 0
      },
      "text/plain": [
       "FloatProgress(value=0.0, bar_style='info', description='Progress:', layout=Layout(height='25px', width='50%'),…"
      ]
     },
     "metadata": {},
     "output_type": "display_data"
    }
   ],
   "source": [
    "#reading the csv file got after preprocessing\n",
    "inputdf = spark.read.option(\"header\",\"true\").schema(MySchema).csv(\"s3://reviwssannilbhav/reviews1.csv\")"
   ]
  },
  {
   "cell_type": "code",
   "execution_count": 5,
   "metadata": {},
   "outputs": [
    {
     "data": {
      "application/vnd.jupyter.widget-view+json": {
       "model_id": "8a797576504d4cc1a2542a3eaa44f650",
       "version_major": 2,
       "version_minor": 0
      },
      "text/plain": [
       "VBox()"
      ]
     },
     "metadata": {},
     "output_type": "display_data"
    },
    {
     "data": {
      "application/vnd.jupyter.widget-view+json": {
       "model_id": "",
       "version_major": 2,
       "version_minor": 0
      },
      "text/plain": [
       "FloatProgress(value=0.0, bar_style='info', description='Progress:', layout=Layout(height='25px', width='50%'),…"
      ]
     },
     "metadata": {},
     "output_type": "display_data"
    },
    {
     "name": "stdout",
     "output_type": "stream",
     "text": [
      "+--------------------+--------------------+-----+------------+--------------------+--------------------+------------+------+-----+----+--------------------+--------------+\n",
      "|         business_id|                name|stars|review_count|           review_id|             user_id|review_stars|useful|funny|cool|                text|          date|\n",
      "+--------------------+--------------------+-----+------------+--------------------+--------------------+------------+------+-----+----+--------------------+--------------+\n",
      "|cKyLV5oWZJ2NudWgq...|Oasis Auto Center...|  4.5|          38|edUqROoq7qAVzR2b2...|4oE6BjeHyTVRqd_82...|           2|     3|    0|   0|This place was mu...|9/4/2013 22:11|\n",
      "+--------------------+--------------------+-----+------------+--------------------+--------------------+------------+------+-----+----+--------------------+--------------+\n",
      "only showing top 1 row"
     ]
    }
   ],
   "source": [
    "#displaying the dataframe read \n",
    "inputdf.show(1)"
   ]
  },
  {
   "cell_type": "code",
   "execution_count": 6,
   "metadata": {},
   "outputs": [
    {
     "data": {
      "application/vnd.jupyter.widget-view+json": {
       "model_id": "4dd570239e824d54aca9474b0f025e87",
       "version_major": 2,
       "version_minor": 0
      },
      "text/plain": [
       "VBox()"
      ]
     },
     "metadata": {},
     "output_type": "display_data"
    },
    {
     "data": {
      "application/vnd.jupyter.widget-view+json": {
       "model_id": "",
       "version_major": 2,
       "version_minor": 0
      },
      "text/plain": [
       "FloatProgress(value=0.0, bar_style='info', description='Progress:', layout=Layout(height='25px', width='50%'),…"
      ]
     },
     "metadata": {},
     "output_type": "display_data"
    }
   ],
   "source": [
    "# final dropping of null values if any \n",
    "updatedDF = inputdf.dropna()"
   ]
  },
  {
   "cell_type": "code",
   "execution_count": 7,
   "metadata": {},
   "outputs": [
    {
     "data": {
      "application/vnd.jupyter.widget-view+json": {
       "model_id": "a33ae9e7fb3e4e33a865e3a0414ad773",
       "version_major": 2,
       "version_minor": 0
      },
      "text/plain": [
       "VBox()"
      ]
     },
     "metadata": {},
     "output_type": "display_data"
    },
    {
     "data": {
      "application/vnd.jupyter.widget-view+json": {
       "model_id": "",
       "version_major": 2,
       "version_minor": 0
      },
      "text/plain": [
       "FloatProgress(value=0.0, bar_style='info', description='Progress:', layout=Layout(height='25px', width='50%'),…"
      ]
     },
     "metadata": {},
     "output_type": "display_data"
    }
   ],
   "source": [
    "# Generating a sepcial Feature Id from user_id, review_date, business_id\n",
    "def generateFeatureId (user_id, review_date, business_id):\n",
    "    return user_id + \"-\" + review_date + \"-\" + business_id\n",
    "\n",
    "from pyspark.sql.functions import udf\n",
    "generateFeatureId_udf = udf(generateFeatureId, StringType())"
   ]
  },
  {
   "cell_type": "code",
   "execution_count": 8,
   "metadata": {},
   "outputs": [
    {
     "data": {
      "application/vnd.jupyter.widget-view+json": {
       "model_id": "f2f24579e3ca47c19a9aba2756517431",
       "version_major": 2,
       "version_minor": 0
      },
      "text/plain": [
       "VBox()"
      ]
     },
     "metadata": {},
     "output_type": "display_data"
    },
    {
     "data": {
      "application/vnd.jupyter.widget-view+json": {
       "model_id": "",
       "version_major": 2,
       "version_minor": 0
      },
      "text/plain": [
       "FloatProgress(value=0.0, bar_style='info', description='Progress:', layout=Layout(height='25px', width='50%'),…"
      ]
     },
     "metadata": {},
     "output_type": "display_data"
    }
   ],
   "source": [
    "# applying the function to generate the id\n",
    "from pyspark.sql.functions import col\n",
    "\n",
    "from pyspark.sql.functions import udf\n",
    "\n",
    "featureIdDF = updatedDF.withColumn(\"feature_id\",generateFeatureId_udf(updatedDF[\"user_id\"],updatedDF[\"date\"],updatedDF[\"business_id\"]))\n"
   ]
  },
  {
   "cell_type": "code",
   "execution_count": 9,
   "metadata": {},
   "outputs": [
    {
     "data": {
      "application/vnd.jupyter.widget-view+json": {
       "model_id": "576f4741bd85449e836d696f9d9fd5b6",
       "version_major": 2,
       "version_minor": 0
      },
      "text/plain": [
       "VBox()"
      ]
     },
     "metadata": {},
     "output_type": "display_data"
    },
    {
     "data": {
      "application/vnd.jupyter.widget-view+json": {
       "model_id": "",
       "version_major": 2,
       "version_minor": 0
      },
      "text/plain": [
       "FloatProgress(value=0.0, bar_style='info', description='Progress:', layout=Layout(height='25px', width='50%'),…"
      ]
     },
     "metadata": {},
     "output_type": "display_data"
    },
    {
     "name": "stdout",
     "output_type": "stream",
     "text": [
      "+--------------------+--------------------+-----+------------+--------------------+--------------------+------------+------+-----+----+--------------------+--------------+--------------------+\n",
      "|         business_id|                name|stars|review_count|           review_id|             user_id|review_stars|useful|funny|cool|                text|          date|          feature_id|\n",
      "+--------------------+--------------------+-----+------------+--------------------+--------------------+------------+------+-----+----+--------------------+--------------+--------------------+\n",
      "|cKyLV5oWZJ2NudWgq...|Oasis Auto Center...|  4.5|          38|edUqROoq7qAVzR2b2...|4oE6BjeHyTVRqd_82...|           2|     3|    0|   0|This place was mu...|9/4/2013 22:11|4oE6BjeHyTVRqd_82...|\n",
      "+--------------------+--------------------+-----+------------+--------------------+--------------------+------------+------+-----+----+--------------------+--------------+--------------------+\n",
      "only showing top 1 row"
     ]
    }
   ],
   "source": [
    "featureIdDF.show(1)"
   ]
  },
  {
   "cell_type": "code",
   "execution_count": 10,
   "metadata": {},
   "outputs": [
    {
     "data": {
      "application/vnd.jupyter.widget-view+json": {
       "model_id": "442ba7e49cbe4129a227600d093b1558",
       "version_major": 2,
       "version_minor": 0
      },
      "text/plain": [
       "VBox()"
      ]
     },
     "metadata": {},
     "output_type": "display_data"
    },
    {
     "data": {
      "application/vnd.jupyter.widget-view+json": {
       "model_id": "",
       "version_major": 2,
       "version_minor": 0
      },
      "text/plain": [
       "FloatProgress(value=0.0, bar_style='info', description='Progress:', layout=Layout(height='25px', width='50%'),…"
      ]
     },
     "metadata": {},
     "output_type": "display_data"
    }
   ],
   "source": [
    "# Combine Useful, Funny, Cool into single column named - useful_review_count\n",
    "def calculation_useful_review_count(useful, funny, cool):\n",
    "    return useful + funny + cool;\n",
    "\n",
    "calculation_useful_review_count_udf = udf(calculation_useful_review_count, IntegerType())"
   ]
  },
  {
   "cell_type": "code",
   "execution_count": 11,
   "metadata": {},
   "outputs": [
    {
     "data": {
      "application/vnd.jupyter.widget-view+json": {
       "model_id": "9b9fa77f6f0b4f89a49a49c5f2e0b30b",
       "version_major": 2,
       "version_minor": 0
      },
      "text/plain": [
       "VBox()"
      ]
     },
     "metadata": {},
     "output_type": "display_data"
    },
    {
     "data": {
      "application/vnd.jupyter.widget-view+json": {
       "model_id": "",
       "version_major": 2,
       "version_minor": 0
      },
      "text/plain": [
       "FloatProgress(value=0.0, bar_style='info', description='Progress:', layout=Layout(height='25px', width='50%'),…"
      ]
     },
     "metadata": {},
     "output_type": "display_data"
    },
    {
     "name": "stdout",
     "output_type": "stream",
     "text": [
      "+--------------------+--------------------+-----+------------+--------------------+--------------------+------------+--------------------+--------------+--------------------+-------------------+\n",
      "|         business_id|                name|stars|review_count|           review_id|             user_id|review_stars|                text|          date|          feature_id|useful_review_count|\n",
      "+--------------------+--------------------+-----+------------+--------------------+--------------------+------------+--------------------+--------------+--------------------+-------------------+\n",
      "|cKyLV5oWZJ2NudWgq...|Oasis Auto Center...|  4.5|          38|edUqROoq7qAVzR2b2...|4oE6BjeHyTVRqd_82...|           2|This place was mu...|9/4/2013 22:11|4oE6BjeHyTVRqd_82...|                  3|\n",
      "+--------------------+--------------------+-----+------------+--------------------+--------------------+------------+--------------------+--------------+--------------------+-------------------+\n",
      "only showing top 1 row\n",
      "\n",
      "DataFrame[business_id: string, name: string, stars: string, review_count: string, review_id: string, user_id: string, review_stars: int, text: string, date: string, feature_id: string, useful_review_count: int]"
     ]
    }
   ],
   "source": [
    "#applying function to combine all votes into one\n",
    "combinedUsefulDF = featureIdDF.withColumn(\"useful_review_count\",calculation_useful_review_count_udf(featureIdDF['useful'],featureIdDF[\"funny\"],featureIdDF[\"cool\"]))\n",
    "combinedUsefulDF = combinedUsefulDF.drop(\"useful\",\"funny\",\"cool\");\n",
    "combinedUsefulDF.show(1);\n",
    "combinedUsefulDF.cache()"
   ]
  },
  {
   "cell_type": "code",
   "execution_count": 12,
   "metadata": {},
   "outputs": [
    {
     "data": {
      "application/vnd.jupyter.widget-view+json": {
       "model_id": "23ec931c0d0c42c297dae5c46332d0d6",
       "version_major": 2,
       "version_minor": 0
      },
      "text/plain": [
       "VBox()"
      ]
     },
     "metadata": {},
     "output_type": "display_data"
    },
    {
     "data": {
      "application/vnd.jupyter.widget-view+json": {
       "model_id": "",
       "version_major": 2,
       "version_minor": 0
      },
      "text/plain": [
       "FloatProgress(value=0.0, bar_style='info', description='Progress:', layout=Layout(height='25px', width='50%'),…"
      ]
     },
     "metadata": {},
     "output_type": "display_data"
    }
   ],
   "source": [
    "#selecting the feature id and review text to get the sentiment score for a particular review\n",
    "reviewsSummaryDF = combinedUsefulDF.select(\"feature_id\",\"text\")"
   ]
  },
  {
   "cell_type": "code",
   "execution_count": 13,
   "metadata": {},
   "outputs": [
    {
     "data": {
      "application/vnd.jupyter.widget-view+json": {
       "model_id": "e5e895ca6a3d4a2d94f3e18f6a9a740d",
       "version_major": 2,
       "version_minor": 0
      },
      "text/plain": [
       "VBox()"
      ]
     },
     "metadata": {},
     "output_type": "display_data"
    },
    {
     "data": {
      "application/vnd.jupyter.widget-view+json": {
       "model_id": "",
       "version_major": 2,
       "version_minor": 0
      },
      "text/plain": [
       "FloatProgress(value=0.0, bar_style='info', description='Progress:', layout=Layout(height='25px', width='50%'),…"
      ]
     },
     "metadata": {},
     "output_type": "display_data"
    },
    {
     "name": "stdout",
     "output_type": "stream",
     "text": [
      "+--------------------+--------------------+\n",
      "|          feature_id|                text|\n",
      "+--------------------+--------------------+\n",
      "|4oE6BjeHyTVRqd_82...|This place was mu...|\n",
      "+--------------------+--------------------+\n",
      "only showing top 1 row"
     ]
    }
   ],
   "source": [
    "reviewsSummaryDF.show(1)"
   ]
  },
  {
   "cell_type": "code",
   "execution_count": 14,
   "metadata": {},
   "outputs": [
    {
     "data": {
      "application/vnd.jupyter.widget-view+json": {
       "model_id": "d398e02f56e143c79b2f9468d447b040",
       "version_major": 2,
       "version_minor": 0
      },
      "text/plain": [
       "VBox()"
      ]
     },
     "metadata": {},
     "output_type": "display_data"
    },
    {
     "data": {
      "application/vnd.jupyter.widget-view+json": {
       "model_id": "",
       "version_major": 2,
       "version_minor": 0
      },
      "text/plain": [
       "FloatProgress(value=0.0, bar_style='info', description='Progress:', layout=Layout(height='25px', width='50%'),…"
      ]
     },
     "metadata": {},
     "output_type": "display_data"
    },
    {
     "name": "stdout",
     "output_type": "stream",
     "text": [
      "Collecting textblob\n",
      "  Downloading textblob-0.15.3-py2.py3-none-any.whl (636 kB)\n",
      "Requirement already satisfied: nltk>=3.1 in /usr/local/lib/python3.6/site-packages (from textblob) (3.4.5)\n",
      "Requirement already satisfied: six in /usr/local/lib/python3.6/site-packages (from nltk>=3.1->textblob) (1.13.0)\n",
      "Installing collected packages: textblob\n",
      "Successfully installed textblob-0.15.3"
     ]
    }
   ],
   "source": [
    "#installing python libraries\n",
    "sc.install_pypi_package(\"textblob\")\n",
    "# sc.install_pypi_package(\"pytest-benchmark\")"
   ]
  },
  {
   "cell_type": "code",
   "execution_count": 15,
   "metadata": {},
   "outputs": [
    {
     "data": {
      "application/vnd.jupyter.widget-view+json": {
       "model_id": "1596dd93ca3d4042afa2d3ca636f0758",
       "version_major": 2,
       "version_minor": 0
      },
      "text/plain": [
       "VBox()"
      ]
     },
     "metadata": {},
     "output_type": "display_data"
    },
    {
     "data": {
      "application/vnd.jupyter.widget-view+json": {
       "model_id": "",
       "version_major": 2,
       "version_minor": 0
      },
      "text/plain": [
       "FloatProgress(value=0.0, bar_style='info', description='Progress:', layout=Layout(height='25px', width='50%'),…"
      ]
     },
     "metadata": {},
     "output_type": "display_data"
    }
   ],
   "source": [
    "from textblob import TextBlob\n",
    "# Sentiment Analysis, returns the sentiment score \n",
    "def getSentiment(text):\n",
    "    sentiment = TextBlob(text).sentiment.polarity\n",
    "    return sentiment\n",
    "\n",
    "sentiment_score_udf = udf(getSentiment, DoubleType())\n"
   ]
  },
  {
   "cell_type": "code",
   "execution_count": 16,
   "metadata": {},
   "outputs": [
    {
     "data": {
      "application/vnd.jupyter.widget-view+json": {
       "model_id": "719752e23f344954a747992c55dd9d92",
       "version_major": 2,
       "version_minor": 0
      },
      "text/plain": [
       "VBox()"
      ]
     },
     "metadata": {},
     "output_type": "display_data"
    },
    {
     "data": {
      "application/vnd.jupyter.widget-view+json": {
       "model_id": "",
       "version_major": 2,
       "version_minor": 0
      },
      "text/plain": [
       "FloatProgress(value=0.0, bar_style='info', description='Progress:', layout=Layout(height='25px', width='50%'),…"
      ]
     },
     "metadata": {},
     "output_type": "display_data"
    }
   ],
   "source": [
    "combinedUsefulDF = combinedUsefulDF.dropna()"
   ]
  },
  {
   "cell_type": "code",
   "execution_count": 17,
   "metadata": {},
   "outputs": [
    {
     "data": {
      "application/vnd.jupyter.widget-view+json": {
       "model_id": "6140f93f45154c9f8e7d56359c9150e8",
       "version_major": 2,
       "version_minor": 0
      },
      "text/plain": [
       "VBox()"
      ]
     },
     "metadata": {},
     "output_type": "display_data"
    },
    {
     "data": {
      "application/vnd.jupyter.widget-view+json": {
       "model_id": "",
       "version_major": 2,
       "version_minor": 0
      },
      "text/plain": [
       "FloatProgress(value=0.0, bar_style='info', description='Progress:', layout=Layout(height='25px', width='50%'),…"
      ]
     },
     "metadata": {},
     "output_type": "display_data"
    }
   ],
   "source": [
    "sentiment_score_df = combinedUsefulDF.withColumn(\"sentiment_score\",sentiment_score_udf(combinedUsefulDF[\"text\"]))"
   ]
  },
  {
   "cell_type": "code",
   "execution_count": 18,
   "metadata": {},
   "outputs": [
    {
     "data": {
      "application/vnd.jupyter.widget-view+json": {
       "model_id": "a10c78b10c1e4de3aab18672ce6abeeb",
       "version_major": 2,
       "version_minor": 0
      },
      "text/plain": [
       "VBox()"
      ]
     },
     "metadata": {},
     "output_type": "display_data"
    },
    {
     "data": {
      "application/vnd.jupyter.widget-view+json": {
       "model_id": "",
       "version_major": 2,
       "version_minor": 0
      },
      "text/plain": [
       "FloatProgress(value=0.0, bar_style='info', description='Progress:', layout=Layout(height='25px', width='50%'),…"
      ]
     },
     "metadata": {},
     "output_type": "display_data"
    },
    {
     "name": "stdout",
     "output_type": "stream",
     "text": [
      "+--------------------+--------------------+-----+------------+--------------------+--------------------+------------+--------------------+--------------+--------------------+-------------------+-------------------+\n",
      "|         business_id|                name|stars|review_count|           review_id|             user_id|review_stars|                text|          date|          feature_id|useful_review_count|    sentiment_score|\n",
      "+--------------------+--------------------+-----+------------+--------------------+--------------------+------------+--------------------+--------------+--------------------+-------------------+-------------------+\n",
      "|cKyLV5oWZJ2NudWgq...|Oasis Auto Center...|  4.5|          38|edUqROoq7qAVzR2b2...|4oE6BjeHyTVRqd_82...|           2|This place was mu...|9/4/2013 22:11|4oE6BjeHyTVRqd_82...|                  3|0.09166666666666667|\n",
      "+--------------------+--------------------+-----+------------+--------------------+--------------------+------------+--------------------+--------------+--------------------+-------------------+-------------------+\n",
      "only showing top 1 row"
     ]
    }
   ],
   "source": [
    "sentiment_score_df.show(1)"
   ]
  },
  {
   "cell_type": "code",
   "execution_count": 19,
   "metadata": {},
   "outputs": [
    {
     "data": {
      "application/vnd.jupyter.widget-view+json": {
       "model_id": "2236492065c34472bbf44ce6dee3e677",
       "version_major": 2,
       "version_minor": 0
      },
      "text/plain": [
       "VBox()"
      ]
     },
     "metadata": {},
     "output_type": "display_data"
    },
    {
     "data": {
      "application/vnd.jupyter.widget-view+json": {
       "model_id": "",
       "version_major": 2,
       "version_minor": 0
      },
      "text/plain": [
       "FloatProgress(value=0.0, bar_style='info', description='Progress:', layout=Layout(height='25px', width='50%'),…"
      ]
     },
     "metadata": {},
     "output_type": "display_data"
    },
    {
     "name": "stdout",
     "output_type": "stream",
     "text": [
      "DataFrame[business_id: string, avg(sentiment_score): double, avg(review_stars): double]"
     ]
    }
   ],
   "source": [
    "#finding the average of the sentiment score and the average of the review star ratings\n",
    "average_sentiment_reviewstarsDF = sentiment_score_df.select(\"business_id\",\"sentiment_score\",\"review_stars\")\n",
    "from pyspark.sql import functions as F\n",
    "average_sentiment_reviewstarsDF = average_sentiment_reviewstarsDF.groupBy(\"business_id\").agg({'sentiment_score':'avg', 'review_stars':'avg'})\n",
    "average_sentiment_reviewstarsDF.cache()"
   ]
  },
  {
   "cell_type": "code",
   "execution_count": 20,
   "metadata": {},
   "outputs": [
    {
     "data": {
      "application/vnd.jupyter.widget-view+json": {
       "model_id": "2d0c2e5259a44d3a922f6b6dd8f34947",
       "version_major": 2,
       "version_minor": 0
      },
      "text/plain": [
       "VBox()"
      ]
     },
     "metadata": {},
     "output_type": "display_data"
    },
    {
     "data": {
      "application/vnd.jupyter.widget-view+json": {
       "model_id": "",
       "version_major": 2,
       "version_minor": 0
      },
      "text/plain": [
       "FloatProgress(value=0.0, bar_style='info', description='Progress:', layout=Layout(height='25px', width='50%'),…"
      ]
     },
     "metadata": {},
     "output_type": "display_data"
    },
    {
     "name": "stdout",
     "output_type": "stream",
     "text": [
      "+--------------------+--------------------+-----------------+\n",
      "|         business_id|avg(sentiment_score)|avg(review_stars)|\n",
      "+--------------------+--------------------+-----------------+\n",
      "|vyu1WGlnHGv2Z2MVE...|  0.3732122360939325|              5.0|\n",
      "+--------------------+--------------------+-----------------+\n",
      "only showing top 1 row"
     ]
    }
   ],
   "source": [
    "average_sentiment_reviewstarsDF.show(1)"
   ]
  },
  {
   "cell_type": "code",
   "execution_count": 21,
   "metadata": {},
   "outputs": [
    {
     "data": {
      "application/vnd.jupyter.widget-view+json": {
       "model_id": "3b095af8168541d0a1f932a9b23d90ad",
       "version_major": 2,
       "version_minor": 0
      },
      "text/plain": [
       "VBox()"
      ]
     },
     "metadata": {},
     "output_type": "display_data"
    },
    {
     "data": {
      "application/vnd.jupyter.widget-view+json": {
       "model_id": "",
       "version_major": 2,
       "version_minor": 0
      },
      "text/plain": [
       "FloatProgress(value=0.0, bar_style='info', description='Progress:', layout=Layout(height='25px', width='50%'),…"
      ]
     },
     "metadata": {},
     "output_type": "display_data"
    },
    {
     "name": "stdout",
     "output_type": "stream",
     "text": [
      "+--------------------+--------------------+-----------------+--------------------+-----+------------+--------------------+--------------------+------------+--------------------+--------------+--------------------+-------------------+-------------------+\n",
      "|         business_id|avg(sentiment_score)|avg(review_stars)|                name|stars|review_count|           review_id|             user_id|review_stars|                text|          date|          feature_id|useful_review_count|    sentiment_score|\n",
      "+--------------------+--------------------+-----------------+--------------------+-----+------------+--------------------+--------------------+------------+--------------------+--------------+--------------------+-------------------+-------------------+\n",
      "|cKyLV5oWZJ2NudWgq...|  0.2915578020042854|4.595238095238095|Oasis Auto Center...|  4.5|          38|edUqROoq7qAVzR2b2...|4oE6BjeHyTVRqd_82...|           2|This place was mu...|9/4/2013 22:11|4oE6BjeHyTVRqd_82...|                  3|0.09166666666666667|\n",
      "+--------------------+--------------------+-----------------+--------------------+-----+------------+--------------------+--------------------+------------+--------------------+--------------+--------------------+-------------------+-------------------+\n",
      "only showing top 1 row"
     ]
    }
   ],
   "source": [
    "#merging the dataframes \n",
    "average_sentiment_reviewstarsDF = average_sentiment_reviewstarsDF.join(sentiment_score_df, \"business_id\")\n",
    "average_sentiment_reviewstarsDF.show(1)\n"
   ]
  },
  {
   "cell_type": "code",
   "execution_count": 22,
   "metadata": {},
   "outputs": [
    {
     "data": {
      "application/vnd.jupyter.widget-view+json": {
       "model_id": "524897c3864e4e908d9c4470e513a14c",
       "version_major": 2,
       "version_minor": 0
      },
      "text/plain": [
       "VBox()"
      ]
     },
     "metadata": {},
     "output_type": "display_data"
    },
    {
     "data": {
      "application/vnd.jupyter.widget-view+json": {
       "model_id": "",
       "version_major": 2,
       "version_minor": 0
      },
      "text/plain": [
       "FloatProgress(value=0.0, bar_style='info', description='Progress:', layout=Layout(height='25px', width='50%'),…"
      ]
     },
     "metadata": {},
     "output_type": "display_data"
    },
    {
     "name": "stdout",
     "output_type": "stream",
     "text": [
      "+--------------------+--------------------+-----------------+--------------------+--------------------+------------+--------------------+--------------+--------------------+-------------------+-------------------+\n",
      "|         business_id|avg(sentiment_score)|avg(review_stars)|           review_id|             user_id|review_stars|                text|          date|          feature_id|useful_review_count|    sentiment_score|\n",
      "+--------------------+--------------------+-----------------+--------------------+--------------------+------------+--------------------+--------------+--------------------+-------------------+-------------------+\n",
      "|cKyLV5oWZJ2NudWgq...|  0.2915578020042854|4.595238095238095|edUqROoq7qAVzR2b2...|4oE6BjeHyTVRqd_82...|           2|This place was mu...|9/4/2013 22:11|4oE6BjeHyTVRqd_82...|                  3|0.09166666666666667|\n",
      "+--------------------+--------------------+-----------------+--------------------+--------------------+------------+--------------------+--------------+--------------------+-------------------+-------------------+\n",
      "only showing top 1 row"
     ]
    }
   ],
   "source": [
    "#dropping unwanted columns\n",
    "average_sentiment_reviewstarsDF = average_sentiment_reviewstarsDF.drop(\"name\",\"stars\",\"review_count\")\n",
    "average_sentiment_reviewstarsDF.show(1)\n"
   ]
  },
  {
   "cell_type": "code",
   "execution_count": 23,
   "metadata": {},
   "outputs": [
    {
     "data": {
      "application/vnd.jupyter.widget-view+json": {
       "model_id": "263b6c63de224b07aeac33205ab793b8",
       "version_major": 2,
       "version_minor": 0
      },
      "text/plain": [
       "VBox()"
      ]
     },
     "metadata": {},
     "output_type": "display_data"
    },
    {
     "data": {
      "application/vnd.jupyter.widget-view+json": {
       "model_id": "",
       "version_major": 2,
       "version_minor": 0
      },
      "text/plain": [
       "FloatProgress(value=0.0, bar_style='info', description='Progress:', layout=Layout(height='25px', width='50%'),…"
      ]
     },
     "metadata": {},
     "output_type": "display_data"
    }
   ],
   "source": [
    " # computing the distance between a single review sentiment score and the average sentiment score and same for review start ratings\n",
    "from math import *\n",
    "def compute_mean_distance(mu,data):\n",
    "     return abs(mu - data)\n",
    "\n",
    "compute_mean_distance_udf = udf(compute_mean_distance, DoubleType())\n",
    "    "
   ]
  },
  {
   "cell_type": "code",
   "execution_count": 24,
   "metadata": {},
   "outputs": [
    {
     "data": {
      "application/vnd.jupyter.widget-view+json": {
       "model_id": "8330133f0c0f4c4596a85c18d1f0d90a",
       "version_major": 2,
       "version_minor": 0
      },
      "text/plain": [
       "VBox()"
      ]
     },
     "metadata": {},
     "output_type": "display_data"
    },
    {
     "data": {
      "application/vnd.jupyter.widget-view+json": {
       "model_id": "",
       "version_major": 2,
       "version_minor": 0
      },
      "text/plain": [
       "FloatProgress(value=0.0, bar_style='info', description='Progress:', layout=Layout(height='25px', width='50%'),…"
      ]
     },
     "metadata": {},
     "output_type": "display_data"
    },
    {
     "name": "stdout",
     "output_type": "stream",
     "text": [
      "+--------------------+--------------------+-----------------+--------------------+--------------------+------------+--------------------+--------------+--------------------+-------------------+-------------------+------------------+\n",
      "|         business_id|avg(sentiment_score)|avg(review_stars)|           review_id|             user_id|review_stars|                text|          date|          feature_id|useful_review_count|    sentiment_score|distance_sentiment|\n",
      "+--------------------+--------------------+-----------------+--------------------+--------------------+------------+--------------------+--------------+--------------------+-------------------+-------------------+------------------+\n",
      "|cKyLV5oWZJ2NudWgq...|  0.2915578020042854|4.595238095238095|edUqROoq7qAVzR2b2...|4oE6BjeHyTVRqd_82...|           2|This place was mu...|9/4/2013 22:11|4oE6BjeHyTVRqd_82...|                  3|0.09166666666666667|0.1998911353376187|\n",
      "+--------------------+--------------------+-----------------+--------------------+--------------------+------------+--------------------+--------------+--------------------+-------------------+-------------------+------------------+\n",
      "only showing top 1 row"
     ]
    }
   ],
   "source": [
    "# Compute distance between Average sentiment score and sentiment score\n",
    "delta_sentiment_df =  average_sentiment_reviewstarsDF.withColumn(\"distance_sentiment\",compute_mean_distance_udf(average_sentiment_reviewstarsDF[\"avg(sentiment_score)\"],average_sentiment_reviewstarsDF[\"sentiment_score\"]))\n",
    "delta_sentiment_df.show(1)\n",
    "                                                                                              "
   ]
  },
  {
   "cell_type": "code",
   "execution_count": 25,
   "metadata": {},
   "outputs": [
    {
     "data": {
      "application/vnd.jupyter.widget-view+json": {
       "model_id": "ac506804931a49b2a1509dc6b8a3a1ff",
       "version_major": 2,
       "version_minor": 0
      },
      "text/plain": [
       "VBox()"
      ]
     },
     "metadata": {},
     "output_type": "display_data"
    },
    {
     "data": {
      "application/vnd.jupyter.widget-view+json": {
       "model_id": "",
       "version_major": 2,
       "version_minor": 0
      },
      "text/plain": [
       "FloatProgress(value=0.0, bar_style='info', description='Progress:', layout=Layout(height='25px', width='50%'),…"
      ]
     },
     "metadata": {},
     "output_type": "display_data"
    },
    {
     "name": "stdout",
     "output_type": "stream",
     "text": [
      "+--------------------+--------------------+-----------------+--------------------+--------------------+------------+--------------------+--------------+--------------------+-------------------+-------------------+------------------+---------------------+\n",
      "|         business_id|avg(sentiment_score)|avg(review_stars)|           review_id|             user_id|review_stars|                text|          date|          feature_id|useful_review_count|    sentiment_score|distance_sentiment|distance_review_stars|\n",
      "+--------------------+--------------------+-----------------+--------------------+--------------------+------------+--------------------+--------------+--------------------+-------------------+-------------------+------------------+---------------------+\n",
      "|cKyLV5oWZJ2NudWgq...|  0.2915578020042854|4.595238095238095|edUqROoq7qAVzR2b2...|4oE6BjeHyTVRqd_82...|           2|This place was mu...|9/4/2013 22:11|4oE6BjeHyTVRqd_82...|                  3|0.09166666666666667|0.1998911353376187|    2.595238095238095|\n",
      "+--------------------+--------------------+-----------------+--------------------+--------------------+------------+--------------------+--------------+--------------------+-------------------+-------------------+------------------+---------------------+\n",
      "only showing top 1 row"
     ]
    }
   ],
   "source": [
    "#Compute distance between average review star rating and review stra rating for a single review\n",
    "delta_review_stars_df =  delta_sentiment_df.withColumn(\"distance_review_stars\",compute_mean_distance_udf(delta_sentiment_df[\"avg(review_stars)\"],delta_sentiment_df[\"review_stars\"]))\n",
    "delta_review_stars_df.show(1)\n",
    "\n"
   ]
  },
  {
   "cell_type": "code",
   "execution_count": 26,
   "metadata": {},
   "outputs": [
    {
     "data": {
      "application/vnd.jupyter.widget-view+json": {
       "model_id": "7134b09e0da741c593acc66dc0aade22",
       "version_major": 2,
       "version_minor": 0
      },
      "text/plain": [
       "VBox()"
      ]
     },
     "metadata": {},
     "output_type": "display_data"
    },
    {
     "data": {
      "application/vnd.jupyter.widget-view+json": {
       "model_id": "",
       "version_major": 2,
       "version_minor": 0
      },
      "text/plain": [
       "FloatProgress(value=0.0, bar_style='info', description='Progress:', layout=Layout(height='25px', width='50%'),…"
      ]
     },
     "metadata": {},
     "output_type": "display_data"
    }
   ],
   "source": [
    "# Generating features\n",
    "from pyspark.ml.linalg import Vectors\n",
    "from pyspark.ml.feature import VectorAssembler\n",
    "\n",
    "features_assembler_DF = VectorAssembler(\n",
    "    inputCols=[\"distance_sentiment\", \"distance_review_stars\", \"useful_review_count\"],\n",
    "    outputCol=\"features\")\n",
    "\n",
    "featuresDF= features_assembler_DF.transform (delta_review_stars_df)\n"
   ]
  },
  {
   "cell_type": "code",
   "execution_count": 27,
   "metadata": {},
   "outputs": [
    {
     "data": {
      "application/vnd.jupyter.widget-view+json": {
       "model_id": "428eff45ea1b4c7c908f6809188333a3",
       "version_major": 2,
       "version_minor": 0
      },
      "text/plain": [
       "VBox()"
      ]
     },
     "metadata": {},
     "output_type": "display_data"
    },
    {
     "data": {
      "application/vnd.jupyter.widget-view+json": {
       "model_id": "",
       "version_major": 2,
       "version_minor": 0
      },
      "text/plain": [
       "FloatProgress(value=0.0, bar_style='info', description='Progress:', layout=Layout(height='25px', width='50%'),…"
      ]
     },
     "metadata": {},
     "output_type": "display_data"
    },
    {
     "name": "stdout",
     "output_type": "stream",
     "text": [
      "+--------------------+--------------------+-----------------+--------------------+--------------------+------------+--------------------+--------------+--------------------+-------------------+-------------------+------------------+---------------------+--------------------+\n",
      "|         business_id|avg(sentiment_score)|avg(review_stars)|           review_id|             user_id|review_stars|                text|          date|          feature_id|useful_review_count|    sentiment_score|distance_sentiment|distance_review_stars|            features|\n",
      "+--------------------+--------------------+-----------------+--------------------+--------------------+------------+--------------------+--------------+--------------------+-------------------+-------------------+------------------+---------------------+--------------------+\n",
      "|cKyLV5oWZJ2NudWgq...|  0.2915578020042854|4.595238095238095|edUqROoq7qAVzR2b2...|4oE6BjeHyTVRqd_82...|           2|This place was mu...|9/4/2013 22:11|4oE6BjeHyTVRqd_82...|                  3|0.09166666666666667|0.1998911353376187|    2.595238095238095|[0.19989113533761...|\n",
      "+--------------------+--------------------+-----------------+--------------------+--------------------+------------+--------------------+--------------+--------------------+-------------------+-------------------+------------------+---------------------+--------------------+\n",
      "only showing top 1 row"
     ]
    }
   ],
   "source": [
    "featuresDF.show(1)"
   ]
  },
  {
   "cell_type": "code",
   "execution_count": 28,
   "metadata": {},
   "outputs": [
    {
     "data": {
      "application/vnd.jupyter.widget-view+json": {
       "model_id": "5701bb6dc6bb435083fa5e90d1b7a501",
       "version_major": 2,
       "version_minor": 0
      },
      "text/plain": [
       "VBox()"
      ]
     },
     "metadata": {},
     "output_type": "display_data"
    },
    {
     "data": {
      "application/vnd.jupyter.widget-view+json": {
       "model_id": "",
       "version_major": 2,
       "version_minor": 0
      },
      "text/plain": [
       "FloatProgress(value=0.0, bar_style='info', description='Progress:', layout=Layout(height='25px', width='50%'),…"
      ]
     },
     "metadata": {},
     "output_type": "display_data"
    }
   ],
   "source": [
    "# Standardising using MaxAbsScalar\n",
    "from pyspark.ml.feature import MaxAbsScaler\n",
    "from pyspark.ml.linalg import Vectors\n",
    "\n",
    "scaler = MaxAbsScaler(inputCol=\"features\", outputCol=\"scaledFeatures\")\n",
    "# Compute summary statistics and generate MaxAbsScalerModel\n",
    "scalerModel = scaler.fit(featuresDF)"
   ]
  },
  {
   "cell_type": "code",
   "execution_count": 29,
   "metadata": {},
   "outputs": [
    {
     "data": {
      "application/vnd.jupyter.widget-view+json": {
       "model_id": "e23b6cfb38894fbb9730960addc97df3",
       "version_major": 2,
       "version_minor": 0
      },
      "text/plain": [
       "VBox()"
      ]
     },
     "metadata": {},
     "output_type": "display_data"
    },
    {
     "data": {
      "application/vnd.jupyter.widget-view+json": {
       "model_id": "",
       "version_major": 2,
       "version_minor": 0
      },
      "text/plain": [
       "FloatProgress(value=0.0, bar_style='info', description='Progress:', layout=Layout(height='25px', width='50%'),…"
      ]
     },
     "metadata": {},
     "output_type": "display_data"
    }
   ],
   "source": [
    "scaledTransformedData = scalerModel.transform(featuresDF)"
   ]
  },
  {
   "cell_type": "code",
   "execution_count": 30,
   "metadata": {},
   "outputs": [
    {
     "data": {
      "application/vnd.jupyter.widget-view+json": {
       "model_id": "136a318ef6ff4a2ea4f928c34e78fab8",
       "version_major": 2,
       "version_minor": 0
      },
      "text/plain": [
       "VBox()"
      ]
     },
     "metadata": {},
     "output_type": "display_data"
    },
    {
     "data": {
      "application/vnd.jupyter.widget-view+json": {
       "model_id": "",
       "version_major": 2,
       "version_minor": 0
      },
      "text/plain": [
       "FloatProgress(value=0.0, bar_style='info', description='Progress:', layout=Layout(height='25px', width='50%'),…"
      ]
     },
     "metadata": {},
     "output_type": "display_data"
    }
   ],
   "source": [
    "# creating empty dataframe so all to append final results.\n",
    "schema = StructType([\n",
    "    StructField(\"Silhouette_distance\", DoubleType(), True),\n",
    "    StructField(\"k\", IntegerType(), True)        \n",
    "])\n",
    "K_Silhouette_DF = spark.createDataFrame(sc.emptyRDD(), schema)"
   ]
  },
  {
   "cell_type": "code",
   "execution_count": 31,
   "metadata": {},
   "outputs": [
    {
     "data": {
      "application/vnd.jupyter.widget-view+json": {
       "model_id": "ac9d766c122a47698ec56e0ce8f5360d",
       "version_major": 2,
       "version_minor": 0
      },
      "text/plain": [
       "VBox()"
      ]
     },
     "metadata": {},
     "output_type": "display_data"
    },
    {
     "data": {
      "application/vnd.jupyter.widget-view+json": {
       "model_id": "",
       "version_major": 2,
       "version_minor": 0
      },
      "text/plain": [
       "FloatProgress(value=0.0, bar_style='info', description='Progress:', layout=Layout(height='25px', width='50%'),…"
      ]
     },
     "metadata": {},
     "output_type": "display_data"
    }
   ],
   "source": [
    "from pyspark.ml.clustering import GaussianMixture\n",
    "\n",
    "def create_GMM_model(k, scaledTransformedDF):\n",
    "    gmm = GaussianMixture().setK(k).setFeaturesCol(\"scaledFeatures\").setMaxIter(100)\n",
    "    model = gmm.fit(scaledTransformedDF)\n",
    "    return model\n"
   ]
  },
  {
   "cell_type": "code",
   "execution_count": 32,
   "metadata": {},
   "outputs": [
    {
     "data": {
      "application/vnd.jupyter.widget-view+json": {
       "model_id": "4fbb4f94f58040ff97a24fb89ad9ead4",
       "version_major": 2,
       "version_minor": 0
      },
      "text/plain": [
       "VBox()"
      ]
     },
     "metadata": {},
     "output_type": "display_data"
    },
    {
     "data": {
      "application/vnd.jupyter.widget-view+json": {
       "model_id": "",
       "version_major": 2,
       "version_minor": 0
      },
      "text/plain": [
       "FloatProgress(value=0.0, bar_style='info', description='Progress:', layout=Layout(height='25px', width='50%'),…"
      ]
     },
     "metadata": {},
     "output_type": "display_data"
    }
   ],
   "source": [
    "# Write to CSV File\n",
    "def toCSV(df,outputPath):\n",
    "    df.write.csv(outputPath)"
   ]
  },
  {
   "cell_type": "code",
   "execution_count": 33,
   "metadata": {},
   "outputs": [
    {
     "data": {
      "application/vnd.jupyter.widget-view+json": {
       "model_id": "e87a897f38c642439be429001171321a",
       "version_major": 2,
       "version_minor": 0
      },
      "text/plain": [
       "VBox()"
      ]
     },
     "metadata": {},
     "output_type": "display_data"
    },
    {
     "data": {
      "application/vnd.jupyter.widget-view+json": {
       "model_id": "",
       "version_major": 2,
       "version_minor": 0
      },
      "text/plain": [
       "FloatProgress(value=0.0, bar_style='info', description='Progress:', layout=Layout(height='25px', width='50%'),…"
      ]
     },
     "metadata": {},
     "output_type": "display_data"
    }
   ],
   "source": [
    "from pyspark.ml.evaluation import ClusteringEvaluator\n"
   ]
  },
  {
   "cell_type": "code",
   "execution_count": 34,
   "metadata": {},
   "outputs": [
    {
     "data": {
      "application/vnd.jupyter.widget-view+json": {
       "model_id": "498c05b4606d4baea9bc51aa25683ca2",
       "version_major": 2,
       "version_minor": 0
      },
      "text/plain": [
       "VBox()"
      ]
     },
     "metadata": {},
     "output_type": "display_data"
    },
    {
     "data": {
      "application/vnd.jupyter.widget-view+json": {
       "model_id": "",
       "version_major": 2,
       "version_minor": 0
      },
      "text/plain": [
       "FloatProgress(value=0.0, bar_style='info', description='Progress:', layout=Layout(height='25px', width='50%'),…"
      ]
     },
     "metadata": {},
     "output_type": "display_data"
    }
   ],
   "source": [
    "#checking the probability and labelling it as spam review or ham review\n",
    "def probability_distribution_scan(probability):\n",
    "    return probability.toArray().tolist()[0] >= 0.90\n",
    "\n",
    "probability_distribution_scan_udf = udf(probability_distribution_scan,  BooleanType())\n"
   ]
  },
  {
   "cell_type": "code",
   "execution_count": 41,
   "metadata": {},
   "outputs": [
    {
     "data": {
      "application/vnd.jupyter.widget-view+json": {
       "model_id": "516927ef0eae40b69ef63b83ca23bc27",
       "version_major": 2,
       "version_minor": 0
      },
      "text/plain": [
       "VBox()"
      ]
     },
     "metadata": {},
     "output_type": "display_data"
    },
    {
     "data": {
      "application/vnd.jupyter.widget-view+json": {
       "model_id": "",
       "version_major": 2,
       "version_minor": 0
      },
      "text/plain": [
       "FloatProgress(value=0.0, bar_style='info', description='Progress:', layout=Layout(height='25px', width='50%'),…"
      ]
     },
     "metadata": {},
     "output_type": "display_data"
    },
    {
     "name": "stdout",
     "output_type": "stream",
     "text": [
      "silhouette width 0.13103409943453684 for K 2\n",
      "+-------------------+---+\n",
      "|Silhouette_distance|  k|\n",
      "+-------------------+---+\n",
      "|0.13103409943453684|  2|\n",
      "+-------------------+---+\n",
      "only showing top 1 row\n",
      "\n",
      "/usr/lib/spark/python/lib/pyspark.zip/pyspark/sql/session.py:346: UserWarning: inferring schema from dict is deprecated,please use pyspark.sql.Row instead"
     ]
    }
   ],
   "source": [
    "#iterating the model on different k values\n",
    "k=2\n",
    "s_distance = []\n",
    "while (k <= 15) :\n",
    "    gmm = create_GMM_model(k,scaledTransformedData)\n",
    "    \n",
    "    transformed_gmm = gmm.transform(scaledTransformedData)\n",
    "    \n",
    "    cosine_evaluator = ClusteringEvaluator().setDistanceMeasure (\"cosine\")\n",
    "    \n",
    "    Silhouette_distance = cosine_evaluator.evaluate(transformed_gmm);\n",
    "    \n",
    "    tuple_row = spark.createDataFrame([{\"k\": k, \"Silhouette_distance\": Silhouette_distance}])\n",
    "    \n",
    "    K_Silhouette_DF = K_Silhouette_DF.union(tuple_row)\n",
    "    \n",
    "    s_distance.append(Silhouette_distance)\n",
    "    \n",
    "    reviewDF = transformed_gmm.withColumn(\"isHam\",probability_distribution_scan_udf(transformed_gmm[\"probability\"]))\n",
    "    \n",
    "    newReviewDF = reviewDF.select(\"business_id\",\"user_id\",\"review_id\",\"prediction\",\"isHam\")\n",
    "    \n",
    "    toCSV(newReviewDF,\"s3://reviwssannilbhav/out/k_new\"+str(k))\n",
    "    \n",
    "    if k== 2:\n",
    "        K_Silhouette_DF.show(1)\n",
    "    \n",
    "    k = k+1;"
   ]
  },
  {
   "cell_type": "code",
   "execution_count": 48,
   "metadata": {},
   "outputs": [
    {
     "data": {
      "application/vnd.jupyter.widget-view+json": {
       "model_id": "20d147d9c10f4020b61b6710a0fddc9e",
       "version_major": 2,
       "version_minor": 0
      },
      "text/plain": [
       "VBox()"
      ]
     },
     "metadata": {},
     "output_type": "display_data"
    },
    {
     "data": {
      "application/vnd.jupyter.widget-view+json": {
       "model_id": "",
       "version_major": 2,
       "version_minor": 0
      },
      "text/plain": [
       "FloatProgress(value=0.0, bar_style='info', description='Progress:', layout=Layout(height='25px', width='50%'),…"
      ]
     },
     "metadata": {},
     "output_type": "display_data"
    },
    {
     "name": "stdout",
     "output_type": "stream",
     "text": [
      "+--------------------+---+\n",
      "| Silhouette_distance|  k|\n",
      "+--------------------+---+\n",
      "| 0.13103409943453684|  2|\n",
      "| 0.13103409943453684|  2|\n",
      "|-0.06918256577999014|  3|\n",
      "|-0.04822272141379496|  4|\n",
      "+--------------------+---+"
     ]
    }
   ],
   "source": [
    "K_Silhouette_DF.show()"
   ]
  },
  {
   "cell_type": "code",
   "execution_count": 43,
   "metadata": {},
   "outputs": [
    {
     "data": {
      "application/vnd.jupyter.widget-view+json": {
       "model_id": "15265d0853ab4eb69bde7f96f88bd03a",
       "version_major": 2,
       "version_minor": 0
      },
      "text/plain": [
       "VBox()"
      ]
     },
     "metadata": {},
     "output_type": "display_data"
    },
    {
     "data": {
      "application/vnd.jupyter.widget-view+json": {
       "model_id": "",
       "version_major": 2,
       "version_minor": 0
      },
      "text/plain": [
       "FloatProgress(value=0.0, bar_style='info', description='Progress:', layout=Layout(height='25px', width='50%'),…"
      ]
     },
     "metadata": {},
     "output_type": "display_data"
    },
    {
     "name": "stderr",
     "output_type": "stream",
     "text": [
      "'path s3://reviwssannilbhav/out/s_diatance_new already exists.;'\n",
      "Traceback (most recent call last):\n",
      "  File \"<stdin>\", line 3, in toCSV\n",
      "  File \"/usr/lib/spark/python/lib/pyspark.zip/pyspark/sql/readwriter.py\", line 931, in csv\n",
      "    self._jwrite.csv(path)\n",
      "  File \"/usr/lib/spark/python/lib/py4j-0.10.7-src.zip/py4j/java_gateway.py\", line 1257, in __call__\n",
      "    answer, self.gateway_client, self.target_id, self.name)\n",
      "  File \"/usr/lib/spark/python/lib/pyspark.zip/pyspark/sql/utils.py\", line 69, in deco\n",
      "    raise AnalysisException(s.split(': ', 1)[1], stackTrace)\n",
      "pyspark.sql.utils.AnalysisException: 'path s3://reviwssannilbhav/out/s_diatance_new already exists.;'\n",
      "\n"
     ]
    }
   ],
   "source": [
    "toCSV(K_Silhouette_DF,\"s3://reviwssannilbhav/out/s_diatance_new\") "
   ]
  },
  {
   "cell_type": "code",
   "execution_count": null,
   "metadata": {},
   "outputs": [],
   "source": []
  }
 ],
 "metadata": {
  "kernelspec": {
   "display_name": "Python 3",
   "language": "python",
   "name": "python3"
  },
  "language_info": {
   "codemirror_mode": {
    "name": "ipython",
    "version": 3
   },
   "file_extension": ".py",
   "mimetype": "text/x-python",
   "name": "python",
   "nbconvert_exporter": "python",
   "pygments_lexer": "ipython3",
   "version": "3.7.7"
  }
 },
 "nbformat": 4,
 "nbformat_minor": 4
}
